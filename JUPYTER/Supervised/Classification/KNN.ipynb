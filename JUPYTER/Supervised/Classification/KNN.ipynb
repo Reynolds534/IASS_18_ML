{
 "cells": [
  {
   "cell_type": "markdown",
   "metadata": {},
   "source": [
    "# Classification problem"
   ]
  },
  {
   "cell_type": "markdown",
   "metadata": {},
   "source": [
    "In we will use the classification algorithm 'K nearest neighbots.  the effect of hyperparameters on the classification process."
   ]
  },
  {
   "cell_type": "markdown",
   "metadata": {},
   "source": [
    "K Nearest Neighbors explained"
   ]
  },
  {
   "cell_type": "markdown",
   "metadata": {},
   "source": [
    "![image.png](./knn.png)"
   ]
  },
  {
   "cell_type": "markdown",
   "metadata": {},
   "source": [
    "#### Number of neighbors is critical\n",
    "\n",
    "We can see that the decision depends a lot on the number of neighbors, which is a parameter chosen by the user.\n",
    "\n",
    "In the following notebook we will see the effect of this parameter on the results."
   ]
  },
  {
   "cell_type": "markdown",
   "metadata": {},
   "source": [
    "Imports"
   ]
  },
  {
   "cell_type": "code",
   "execution_count": null,
   "metadata": {},
   "outputs": [],
   "source": [
    "import numpy as np\n",
    "import matplotlib.pyplot as plt\n",
    "from matplotlib.colors import ListedColormap\n",
    "from sklearn import neighbors, datasets\n",
    "from sklearn.neighbors import KNeighborsClassifier\n",
    "import numpy as np\n",
    "from sklearn import datasets\n",
    "from KNN_iris import KNN_plot_iris"
   ]
  },
  {
   "cell_type": "markdown",
   "metadata": {},
   "source": [
    "Loading the dataset"
   ]
  },
  {
   "cell_type": "code",
   "execution_count": null,
   "metadata": {},
   "outputs": [],
   "source": [
    "# Loading the dataset\n",
    "iris = datasets.load_iris()\n",
    "iris_X = iris.data\n",
    "iris_y = iris.target\n",
    "\n",
    "# Overlook on the dataset\n",
    "print(\"Number of features: \", iris_X.shape[1])\n",
    "print(\"Labels: \", np.unique(iris_y))"
   ]
  },
  {
   "cell_type": "markdown",
   "metadata": {},
   "source": [
    "Fitting the model"
   ]
  },
  {
   "cell_type": "code",
   "execution_count": null,
   "metadata": {},
   "outputs": [],
   "source": [
    "# Split iris data in train and test data\n",
    "# A random permutation, to split the data randomly\n",
    "np.random.seed(0)\n",
    "indices = np.random.permutation(len(iris_X))\n",
    "iris_X_train = iris_X[indices[:-10]]\n",
    "iris_y_train = iris_y[indices[:-10]]\n",
    "iris_X_test  = iris_X[indices[-10:]]\n",
    "iris_y_test  = iris_y[indices[-10:]]\n",
    "\n",
    "# Create and fit a nearest-neighbor classifier\n",
    "def fit_test_iris(n): # n is the number of neighbors wanted\n",
    "    knn = KNeighborsClassifier(n)\n",
    "    knn.fit(iris_X_train, iris_y_train) \n",
    "    print('True Label:      ', iris_y_test)\n",
    "    print('Predicted Label: ', knn.predict(iris_X_test))\n"
   ]
  },
  {
   "cell_type": "markdown",
   "metadata": {},
   "source": [
    "The number of neighbors n is our hyperparameter"
   ]
  },
  {
   "cell_type": "markdown",
   "metadata": {},
   "source": [
    "#### Effect of n on the mapping function\n",
    "\n",
    "We will change the value of n and see how the decision function changes."
   ]
  },
  {
   "cell_type": "code",
   "execution_count": null,
   "metadata": {},
   "outputs": [],
   "source": [
    "# choose a list of a handful of integers\n",
    "n_neighbors = [2, 5, 10]\n",
    "# using knn \n",
    "for i in n_neighbors:    \n",
    "    KNN_plot_iris(i)\n",
    "    fit_test_iris(i)"
   ]
  },
  {
   "cell_type": "markdown",
   "metadata": {},
   "source": [
    "#### Results?\n",
    "\n",
    "For a new point, knowing its x and y, the label predicted is the color of where the point falls in this map."
   ]
  },
  {
   "cell_type": "markdown",
   "metadata": {},
   "source": [
    "#### Pros and cons of knn"
   ]
  },
  {
   "cell_type": "markdown",
   "metadata": {},
   "source": [
    "Pros of KNN:\n",
    "    \n",
    "    1) No assumptions about data — useful, for example, for nonlinear data\n",
    "    \n",
    "    2) Simple algorithm — to explain and understand/interpret\n",
    "    \n",
    "    3) Good with outlyers as we increase the number of neighbors\n",
    "    \n",
    "Cons of KNN:\n",
    "    \n",
    "    1) Computationally expensive — because the algorithm stores all of the training data\n",
    "    \n",
    "    2) High memory requirement\n",
    "    \n",
    "    3) Data must be scaled!\n",
    "    \n",
    "    4) Prediction stage might be slow with big N"
   ]
  },
  {
   "cell_type": "markdown",
   "metadata": {},
   "source": [
    "#### NB:"
   ]
  },
  {
   "cell_type": "markdown",
   "metadata": {},
   "source": [
    "The visualization is done on the plane (x, y) where x is the first feature, and y the second features ( X[:,0] and X[:,1] ).\n",
    "\n",
    "However, the algorithm KNN is calculating the distances using all the features. Any two other features could have been chosen.\n",
    "\n",
    "In notebook KNN_advanced, we will work with more hyperparameters and use different features."
   ]
  },
  {
   "cell_type": "markdown",
   "metadata": {},
   "source": [
    "# Toy exercise\n",
    "You will use the sklearn library to solve for classification of different wines.\n",
    "For more information on the wine dataset, see here: http://scikit-learn.org/stable/modules/generated/sklearn.datasets.load_wine.html#sklearn.datasets.load_wine"
   ]
  },
  {
   "cell_type": "code",
   "execution_count": null,
   "metadata": {},
   "outputs": [],
   "source": [
    "import numpy as np\n",
    "import matplotlib.pyplot as plt\n",
    "from matplotlib.colors import ListedColormap\n",
    "from sklearn import neighbors, datasets\n",
    "from sklearn.neighbors import KNeighborsClassifier\n",
    "import numpy as np\n",
    "from sklearn import datasets\n",
    "from sklearn.model_selection import train_test_split\n",
    "from KNN_wine import KNN_plot_wine"
   ]
  },
  {
   "cell_type": "code",
   "execution_count": null,
   "metadata": {
    "scrolled": false
   },
   "outputs": [],
   "source": [
    "# Loading the dataset\n",
    "wine = datasets.load_wine()\n",
    "wine_X = wine.data\n",
    "wine_y = wine.target\n",
    "\n",
    "# Overlook on the dataset\n",
    "print(\"Number of features: \", wine_X.shape[1])\n",
    "print(\"Labels: \", np.unique(wine_y))"
   ]
  },
  {
   "cell_type": "markdown",
   "metadata": {},
   "source": [
    "### Training, Testing, and Splitting Data\n",
    "There is a formula for training, testing, and splitting the data instead of specifying indices.\n",
    "#This formula is called train_test_split, where the syntax is:\n",
    "`X_train, X_test, y_train, y_test = train_test_split(X, Y, test_size=n) where n can be a float between 0 and 1`\n",
    "The test_size breaks up the total amount of data into a proportion to use for testing, and a portion for training.\n",
    "\n",
    "Try different test sizes, and see what types of fits you get!"
   ]
  },
  {
   "cell_type": "code",
   "execution_count": null,
   "metadata": {},
   "outputs": [],
   "source": [
    "# Split the wine data into training and testing sets as specified above\n",
    "## code here ##\n",
    "wine_X_train, wine_X_test, wine_y_train, wine_y_test = train_test_split(wine_X, wine_y, test_size=0.25) "
   ]
  },
  {
   "cell_type": "code",
   "execution_count": null,
   "metadata": {},
   "outputs": [],
   "source": [
    "# Create and fit a nearest-neighbor classifier\n",
    "# Describe the fit function, the true label, and the predicted labels\n",
    "def fit_test_wine(n): # n is the number of neighbors wanted\n",
    "    knn = KNeighborsClassifier(n)\n",
    "    knn.fit(wine_X_train, wine_y_train) \n",
    "    print('True Label:      ', wine_y_test)\n",
    "    print('Predicted Label: ', knn.predict(wine_X_test))"
   ]
  },
  {
   "cell_type": "code",
   "execution_count": null,
   "metadata": {
    "scrolled": true
   },
   "outputs": [],
   "source": [
    "n_neighbors = [2, 8, 15]\n",
    "for i in n_neighbors:    \n",
    "    KNN_plot_wine(i)\n",
    "    fit_test_wine(i)"
   ]
  },
  {
   "cell_type": "code",
   "execution_count": null,
   "metadata": {},
   "outputs": [],
   "source": []
  }
 ],
 "metadata": {
  "kernelspec": {
   "display_name": "Python 2",
   "language": "python",
   "name": "python2"
  },
  "language_info": {
   "codemirror_mode": {
    "name": "ipython",
    "version": 2
   },
   "file_extension": ".py",
   "mimetype": "text/x-python",
   "name": "python",
   "nbconvert_exporter": "python",
   "pygments_lexer": "ipython2",
   "version": "2.7.13"
  }
 },
 "nbformat": 4,
 "nbformat_minor": 2
}
