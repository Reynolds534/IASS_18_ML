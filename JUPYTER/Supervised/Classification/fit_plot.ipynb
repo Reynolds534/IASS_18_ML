{
 "cells": [
  {
   "cell_type": "code",
   "execution_count": 27,
   "metadata": {},
   "outputs": [],
   "source": [
    "import numpy as np\n",
    "import matplotlib.pyplot as plt\n",
    "from sklearn.pipeline import Pipeline\n",
    "from sklearn.preprocessing import PolynomialFeatures\n",
    "from sklearn.linear_model import LinearRegression\n",
    "from sklearn.model_selection import train_test_split\n",
    "from sklearn.model_selection import cross_val_score"
   ]
  },
  {
   "cell_type": "code",
   "execution_count": 30,
   "metadata": {},
   "outputs": [],
   "source": [
    "def true_fun(X):\n",
    "    return np.cos(1.5 * np.pi * X)\n",
    "\n",
    "np.random.seed(0)\n",
    "n_samples = 30\n",
    "\n",
    "X = np.sort(np.random.rand(n_samples)*2)\n",
    "y = true_fun(X) + np.random.randn(n_samples) * 0.1\n",
    "\n",
    "def fit_plot(X, y, degrees, score=None):\n",
    "    plt.figure(figsize=(14, 5))\n",
    "    for i in range(len(degrees)):\n",
    "        ax = plt.subplot(1, len(degrees), i + 1)\n",
    "        plt.setp(ax, xticks=(), yticks=())\n",
    "\n",
    "        polynomial_features = PolynomialFeatures(degree=degrees[i],\n",
    "                                                 include_bias=False)\n",
    "        linear_regression = LinearRegression()\n",
    "        pipeline = Pipeline([(\"polynomial_features\", polynomial_features),\n",
    "                             (\"linear_regression\", linear_regression)])\n",
    "        pipeline.fit(X[:, np.newaxis], y)\n",
    "        scores = np.linalg.norm( y - pipeline.predict(X[:, np.newaxis]) )\n",
    "        cv_scores = cross_val_score(pipeline, X[:, np.newaxis], y,\n",
    "                                 scoring=\"neg_mean_squared_error\", cv=10)\n",
    "        \n",
    "        X_train, X_test, y_train, y_test = train_test_split(X, y, test_size=0.33, random_state=42)\n",
    "        pipeline2 = Pipeline([(\"polynomial_features\", polynomial_features),\n",
    "                             (\"linear_regression\", linear_regression)])\n",
    "        pipeline2.fit(X_train[:, np.newaxis], y_train)\n",
    "        score_split = np.linalg.norm( y_test - pipeline2.predict(X_test[:, np.newaxis]) )\n",
    "        \n",
    "        \n",
    "        \n",
    "        \n",
    "        X_plot = np.linspace(0, 2, 100)\n",
    "        plt.plot(X_plot, pipeline.predict(X_plot[:, np.newaxis]), label=\"Model\")\n",
    "        plt.plot(X_plot, true_fun(X_plot), label=\"True function\")\n",
    "        plt.scatter(X, y, edgecolor='b', s=20, label=\"Samples\")\n",
    "        plt.xlabel(\"x\")\n",
    "        plt.ylabel(\"y\")\n",
    "        plt.xlim((0, 2.2))\n",
    "        plt.ylim((-2, 2))\n",
    "        plt.legend(loc=\"best\")\n",
    "        if score == 'cv':\n",
    "            plt.title(\"Degree {}\\nMSE = {:.2e}\".format(\n",
    "                degrees[i], -cv_scores.mean()))\n",
    "        elif score == \"split\":\n",
    "            plt.title(\"Degree {}\\nMSE = {:.2e}\".format(\n",
    "                degrees[i], score_split))\n",
    "        else:\n",
    "            plt.title(\"Degree {}\\nMSE = {:.2e}\".format(\n",
    "                degrees[i], scores))\n",
    "\n",
    "    plt.show()"
   ]
  },
  {
   "cell_type": "code",
   "execution_count": null,
   "metadata": {},
   "outputs": [],
   "source": []
  }
 ],
 "metadata": {
  "kernelspec": {
   "display_name": "Python 2",
   "language": "python",
   "name": "python2"
  },
  "language_info": {
   "codemirror_mode": {
    "name": "ipython",
    "version": 2
   },
   "file_extension": ".py",
   "mimetype": "text/x-python",
   "name": "python",
   "nbconvert_exporter": "python",
   "pygments_lexer": "ipython2",
   "version": "2.7.15"
  }
 },
 "nbformat": 4,
 "nbformat_minor": 2
}
