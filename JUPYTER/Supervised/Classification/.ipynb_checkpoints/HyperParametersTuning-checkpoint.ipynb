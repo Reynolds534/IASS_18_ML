{
 "cells": [
  {
   "cell_type": "markdown",
   "metadata": {},
   "source": [
    "# Hyper parameter tuning"
   ]
  },
  {
   "cell_type": "markdown",
   "metadata": {},
   "source": [
    "Imports"
   ]
  },
  {
   "cell_type": "code",
   "execution_count": null,
   "metadata": {},
   "outputs": [],
   "source": [
    "import numpy as np\n",
    "import matplotlib.pyplot as plt\n",
    "from matplotlib.colors import ListedColormap\n",
    "from sklearn import neighbors, datasets\n",
    "from sklearn.neighbors import KNeighborsClassifier\n",
    "import numpy as np\n",
    "from sklearn import datasets\n",
    "from KNN_iris import KNN_plot_iris"
   ]
  },
  {
   "cell_type": "markdown",
   "metadata": {},
   "source": [
    "Loading the dataset"
   ]
  },
  {
   "cell_type": "code",
   "execution_count": null,
   "metadata": {},
   "outputs": [],
   "source": [
    "# Loading the dataset\n",
    "iris = datasets.load_iris()\n",
    "iris_X = iris.data\n",
    "iris_y = iris.target\n",
    "\n",
    "# Overlook on the dataset\n",
    "print(\"Number of features: \", iris_X.shape[1])\n",
    "print(\"Labels: \", np.unique(iris_y))"
   ]
  },
  {
   "cell_type": "markdown",
   "metadata": {},
   "source": [
    "### Tuning the hyperparameters:\n",
    "    1) Number of neighbors\n",
    "Explained in previous notebook\n",
    "    \n",
    "    2) The metric\n",
    "Metric: The metric is the definition of distance used by the algorithm.\n",
    "\n",
    "For KNN, the metric by default is 'uniform', which means all the neighbors are weighted equally. We can use metric = 'distance', where neighbots are weighted by the inverse of their distance.\n",
    "\n",
    "In this case, closer neighbors of a query point will have a greater influence than neighbors which are further away."
   ]
  },
  {
   "cell_type": "code",
   "execution_count": null,
   "metadata": {},
   "outputs": [],
   "source": [
    "metrics = ['uniform', 'distance']\n",
    "n_neighbors = [2,10]\n",
    "\n",
    "for m in metrics:\n",
    "    for n in n_neighbors:\n",
    "        KNN_plot_iris(n, metric = m)"
   ]
  },
  {
   "cell_type": "markdown",
   "metadata": {},
   "source": [
    "Interpretation: When distance is used as a metric, singular points have a stronger influence, which leads to circles around points, especially outlyers."
   ]
  },
  {
   "cell_type": "markdown",
   "metadata": {},
   "source": [
    "### Changing the projection space"
   ]
  },
  {
   "cell_type": "markdown",
   "metadata": {},
   "source": [
    "All the plots above have been made in the 2D space (Feature 1, Feature2).\n",
    "\n",
    "However, we can do the same visualization in different spaces."
   ]
  },
  {
   "cell_type": "code",
   "execution_count": null,
   "metadata": {
    "scrolled": false
   },
   "outputs": [],
   "source": [
    "X = [0, 1, 2, 3]\n",
    "\n",
    "n_neighbors = 10\n",
    "metric = 'uniform'\n",
    "\n",
    "for x in X:\n",
    "    for y in X:\n",
    "        if y>x:\n",
    "            KNN_plot_iris(n_neighbors, x1 = x, x2 = y, metric = m)"
   ]
  },
  {
   "cell_type": "code",
   "execution_count": null,
   "metadata": {},
   "outputs": [],
   "source": []
  }
 ],
 "metadata": {
  "kernelspec": {
   "display_name": "Python 3",
   "language": "python",
   "name": "python3"
  },
  "language_info": {
   "codemirror_mode": {
    "name": "ipython",
    "version": 3
   },
   "file_extension": ".py",
   "mimetype": "text/x-python",
   "name": "python",
   "nbconvert_exporter": "python",
   "pygments_lexer": "ipython3",
   "version": "3.6.2"
  }
 },
 "nbformat": 4,
 "nbformat_minor": 2
}
