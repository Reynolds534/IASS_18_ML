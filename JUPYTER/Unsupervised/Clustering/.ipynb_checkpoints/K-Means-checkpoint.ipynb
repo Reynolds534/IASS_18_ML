{
 "cells": [
  {
   "cell_type": "markdown",
   "metadata": {},
   "source": [
    "## K-Means"
   ]
  },
  {
   "cell_type": "code",
   "execution_count": null,
   "metadata": {},
   "outputs": [],
   "source": [
    "import numpy as np\n",
    "from matplotlib import pyplot as plt"
   ]
  },
  {
   "cell_type": "code",
   "execution_count": null,
   "metadata": {},
   "outputs": [],
   "source": [
    "N=250\n",
    "\n",
    "\n",
    "d1 = 1.6*np.random.randn(N,2)\n",
    "d1[:,0]= d1[:,0] - 5\n",
    "d1[:,1]= d1[:,1] + 4\n",
    "plt.plot(d1[:,0],d1[:,1],'.b')\n",
    "\n",
    "\n",
    "d2 = 1.8*np.random.randn(N,2)\n",
    "d2[:,0]= d2[:,0] - 25\n",
    "d2[:,1]= d2[:,1] + 20\n",
    "plt.plot(d2[:,0],d2[:,1],'.b')\n",
    "\n",
    "\n",
    "d3 = 1.25*np.random.randn(N,2)\n",
    "d3[:,0]= d3[:,0] + 10\n",
    "d3[:,1]= d3[:,1] + 12\n",
    "plt.plot(d3[:,0],d2[:,1],'.b')"
   ]
  },
  {
   "cell_type": "code",
   "execution_count": null,
   "metadata": {},
   "outputs": [],
   "source": [
    "from sklearn.cluster import KMeans\n",
    "\n",
    "n_clusters =  3\n",
    "\n",
    "X = np.concatenate((d1,d2,d3))\n",
    "\n",
    "def implement_kmeans (n_clusters):\n",
    "    kmeans = KMeans(n_clusters=n_clusters, random_state=0).fit(X)\n",
    "    kmeans.cluster_centers_.shape\n",
    "\n",
    "    plt.plot(X[:,0],X[:,1],'.')\n",
    "    plt.plot(kmeans.cluster_centers_[:,0],kmeans.cluster_centers_[:,1],'o')\n"
   ]
  },
  {
   "cell_type": "code",
   "execution_count": null,
   "metadata": {},
   "outputs": [],
   "source": [
    "from ipywidgets import interact, HTML, FloatSlider\n",
    "interact(implement_kmeans,n_clusters=(1,10,1))"
   ]
  },
  {
   "cell_type": "code",
   "execution_count": null,
   "metadata": {},
   "outputs": [],
   "source": []
  },
  {
   "cell_type": "code",
   "execution_count": null,
   "metadata": {},
   "outputs": [],
   "source": []
  }
 ],
 "metadata": {
  "kernelspec": {
   "display_name": "Python 2",
   "language": "python",
   "name": "python2"
  },
  "language_info": {
   "codemirror_mode": {
    "name": "ipython",
    "version": 2
   },
   "file_extension": ".py",
   "mimetype": "text/x-python",
   "name": "python",
   "nbconvert_exporter": "python",
   "pygments_lexer": "ipython2",
   "version": "2.7.13"
  }
 },
 "nbformat": 4,
 "nbformat_minor": 2
}
