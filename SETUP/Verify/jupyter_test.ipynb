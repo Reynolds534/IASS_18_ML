{
 "cells": [
  {
   "cell_type": "markdown",
   "metadata": {},
   "source": [
    "This notebook uses a simple polynomial regression problem to test out your jupyter notebook setup"
   ]
  },
  {
   "cell_type": "code",
   "execution_count": 10,
   "metadata": {},
   "outputs": [],
   "source": [
    "import numpy as np\n",
    "import scipy as sp\n",
    "from sklearn.preprocessing import PolynomialFeatures\n",
    "from sklearn import linear_model\n",
    "import matplotlib.pyplot as plt"
   ]
  },
  {
   "cell_type": "code",
   "execution_count": 11,
   "metadata": {},
   "outputs": [],
   "source": [
    "N = 500\n",
    "x1= np.random.normal(loc=17,scale=5,size=N)[:,np.newaxis]\n",
    "x2= np.random.normal(loc=0,scale=5,size=N)[:,np.newaxis]\n",
    "y = 3*x1 + np.random.normal(loc=.0, scale=.4, size=N)[:,np.newaxis]\n",
    "x1 = np.sort(x1)\n",
    "\n",
    "x1 = np.random.rand(N) * 10 - 5\n",
    "x1 = np.sort(x1)\n",
    "x1 = x1[:,np.newaxis]\n",
    "noise = 0.1 \n",
    "\n",
    "def f(x):\n",
    "    x = x.ravel()\n",
    "    return np.exp(-x ** 2) + 1. * np.exp(-(x - 1) ** 2)\n",
    "\n",
    "y = f(x1) + np.random.normal(0.0, noise, N)\n",
    "y = y[:,np.newaxis]\n",
    "\n",
    "def polynomial_regr(degree=1):\n",
    "\n",
    "    \n",
    "    X_tr = x1[:].astype(float)\n",
    "    y_tr = y[:].astype(float)\n",
    " \n",
    "    \n",
    "    poly = PolynomialFeatures(degree=degree)\n",
    "    X_tr_ = poly.fit_transform(X_tr)\n",
    "    \n",
    "    regr = linear_model.LinearRegression()\n",
    "    regr.fit(X_tr_, y_tr)\n",
    "    \n",
    "    \n",
    "    y_pred_tr = regr.predict(X_tr_)[:]\n",
    "\n",
    "    plt.plot(X_tr,y_tr,'.b',markersize=6,alpha=.4 );\n",
    "    plt.plot(X_tr,y_pred_tr,'-r',markersize=10,alpha=1 );"
   ]
  },
  {
   "cell_type": "code",
   "execution_count": 6,
   "metadata": {},
   "outputs": [
    {
     "data": {
      "application/vnd.jupyter.widget-view+json": {
       "model_id": "77bcb0a2e8c442cc9da3c408909c3ca1",
       "version_major": 2,
       "version_minor": 0
      },
      "text/plain": [
       "aW50ZXJhY3RpdmUoY2hpbGRyZW49KEludFNsaWRlcih2YWx1ZT0xLCBkZXNjcmlwdGlvbj11J2RlZ3JlZScsIG1heD01MCwgbWluPTEpLCBPdXRwdXQoKSksIF9kb21fY2xhc3Nlcz0odSd3aWTigKY=\n"
      ]
     },
     "metadata": {},
     "output_type": "display_data"
    }
   ],
   "source": [
    "from ipywidgets import interact, HTML, FloatSlider\n",
    "interact(polynomial_regr,degree=(1,25,1));"
   ]
  },
  {
   "cell_type": "markdown",
   "metadata": {},
   "source": [
    "Isn't this interactive and fun?"
   ]
  }
 ],
 "metadata": {
  "kernelspec": {
   "display_name": "Python 2",
   "language": "python",
   "name": "python2"
  },
  "language_info": {
   "codemirror_mode": {
    "name": "ipython",
    "version": 2
   },
   "file_extension": ".py",
   "mimetype": "text/x-python",
   "name": "python",
   "nbconvert_exporter": "python",
   "pygments_lexer": "ipython2",
   "version": "2.7.13"
  }
 },
 "nbformat": 4,
 "nbformat_minor": 2
}
